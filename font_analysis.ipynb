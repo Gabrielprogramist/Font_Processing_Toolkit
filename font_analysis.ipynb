{
 "cells": [
  {
   "cell_type": "code",
   "execution_count": null,
   "metadata": {},
   "outputs": [],
   "source": [
    "'''Поиск файлов шрифтов в указанной директории'''\n",
    "import os\n",
    "\n",
    "def find_fonts(directory):\n",
    "    font_extensions = ('.ttf', '.otf', '.woff')\n",
    "    font_files = []\n",
    "\n",
    "    for root, dirs, files in os.walk(directory):\n",
    "        for file in files:\n",
    "            if file.lower().endswith(font_extensions):\n",
    "                font_files.append(file)\n",
    "\n",
    "    return font_files\n",
    "\n",
    "directory_path = r'path/to/source/directory'\n",
    "fonts = find_fonts(directory_path)\n",
    "print(fonts, len(fonts), sep='\\n')\n"
   ]
  },
  {
   "cell_type": "code",
   "execution_count": null,
   "metadata": {},
   "outputs": [],
   "source": [
    "'''Поиск дубликатов шрифтов'''\n",
    "def find_duplicate_fonts(fonts):\n",
    "    from collections import defaultdict\n",
    "\n",
    "    font_count = defaultdict(int)\n",
    "\n",
    "    # Увеличиваем счетчик для каждого шрифта без учета расширения\n",
    "    for font in fonts:\n",
    "        font_name = os.path.splitext(font)[0]\n",
    "        font_count[font_name] += 1\n",
    "\n",
    "    # Формируем список шрифтов, у которых есть дубликаты\n",
    "    duplicate_fonts = {font_name: count for font_name, count in font_count.items() if count > 1}\n",
    "    return duplicate_fonts\n",
    "\n",
    "duplicate_fonts = find_duplicate_fonts(fonts)\n",
    "print(duplicate_fonts, len(duplicate_fonts), sep='\\n')"
   ]
  },
  {
   "cell_type": "code",
   "execution_count": null,
   "metadata": {},
   "outputs": [],
   "source": [
    "'''Подсчет уникальных шрифтов по расширениям'''\n",
    "print('unique fonts:', len(set([os.path.splitext(font)[0] for font in fonts])))\n",
    "print('ttf fonts:', len([os.path.splitext(font)[0] for font in fonts if os.path.splitext(font)[1]=='.ttf']))\n",
    "print('otf fonts:', len([os.path.splitext(font)[0] for font in fonts if os.path.splitext(font)[1]=='.otf']))\n",
    "print('woff fonts:', len([os.path.splitext(font)[0] for font in fonts if os.path.splitext(font)[1]=='.woff']))\n"
   ]
  }
 ],
 "metadata": {
  "language_info": {
   "name": "python"
  }
 },
 "nbformat": 4,
 "nbformat_minor": 2
}
